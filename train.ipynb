{
 "cells": [
  {
   "cell_type": "code",
   "execution_count": 1,
   "id": "initial_id",
   "metadata": {
    "collapsed": true,
    "ExecuteTime": {
     "end_time": "2024-08-29T06:53:37.505366Z",
     "start_time": "2024-08-29T06:53:36.759169Z"
    }
   },
   "outputs": [],
   "source": [
    "import torch\n",
    "import torchvision\n",
    "from tqdm import tqdm"
   ]
  },
  {
   "cell_type": "code",
   "outputs": [],
   "source": [
    "device = \"cuda:0\" if torch.cuda.is_available() else \"cpu\""
   ],
   "metadata": {
    "collapsed": false
   },
   "id": "bc5efb030cb90b6",
   "execution_count": null
  },
  {
   "cell_type": "code",
   "outputs": [],
   "source": [
    "#这个函数包括了两个操作：将图片转换为张量，以及将图片进行归一化处理\n",
    "transform = torchvision.transforms.Compose([torchvision.transforms.ToTensor(),\n",
    "                                            torchvision.transforms.Normalize(mean=[0.5], std=[0.5])])"
   ],
   "metadata": {
    "collapsed": false
   },
   "id": "e1a840430e4ba3b5",
   "execution_count": null
  },
  {
   "cell_type": "code",
   "outputs": [],
   "source": [
    "path = 'data'  #数据集下载后保存的目录\n",
    "\n",
    "#下载训练集和测试集\n",
    "trainData = torchvision.datasets.MNIST(path, train=True, transform=transform, download=True)\n",
    "testData = torchvision.datasets.MNIST(path, train=False, transform=transform)\n"
   ],
   "metadata": {
    "collapsed": false
   },
   "id": "b6f16d0fdafa5c0d",
   "execution_count": null
  },
  {
   "cell_type": "code",
   "outputs": [],
   "source": [
    "#设定每一个Batch的大小\n",
    "BATCH_SIZE = 256\n",
    "\n",
    "#构建数据集和测试集的DataLoader\n",
    "trainDataLoader = torch.utils.data.DataLoader(dataset=trainData, batch_size=BATCH_SIZE, shuffle=True)\n",
    "testDataLoader = torch.utils.data.DataLoader(dataset=testData, batch_size=BATCH_SIZE)\n"
   ],
   "metadata": {
    "collapsed": false
   },
   "id": "6c3d61edd1e49b2a",
   "execution_count": null
  },
  {
   "cell_type": "code",
   "outputs": [],
   "source": [
    "class Net(torch.nn.Module):\n",
    "    def __init__(self):\n",
    "        super(Net, self).__init__()\n",
    "        self.model = torch.nn.Sequential(\n",
    "            #The size of the picture is 28x28\n",
    "            torch.nn.Conv2d(in_channels=1, out_channels=16, kernel_size=3, stride=1, padding=1),\n",
    "            # 激活函数ReLU 只是对特征图中的每个像素值进行逐元素操作，将负值变为 0，正值保持不变。\n",
    "            torch.nn.ReLU(),\n",
    "            # 池化，用于在卷积神经网络中减少特征图的空间维度，同时保留主要的特征信息。\n",
    "            # 使特征图的空间尺寸缩小了一半\n",
    "            torch.nn.MaxPool2d(kernel_size=2, stride=2),\n",
    "\n",
    "            #The size of the picture is 14x14\n",
    "            torch.nn.Conv2d(in_channels=16, out_channels=32, kernel_size=3, stride=1, padding=1),\n",
    "            torch.nn.ReLU(),\n",
    "            torch.nn.MaxPool2d(kernel_size=2, stride=2),\n",
    "\n",
    "            #The size of the picture is 7x7\n",
    "            torch.nn.Conv2d(in_channels=32, out_channels=64, kernel_size=3, stride=1, padding=1),\n",
    "            torch.nn.ReLU(),\n",
    "\n",
    "            torch.nn.Flatten(),\n",
    "\n",
    "            # 全连接层的作用是将输入的特征向量与一组可学习的权重矩阵相乘，再加上偏置向量，从而输出一个新的特征向量。\n",
    "            # （权重矩阵是全连接层（线性层）中的一个可学习参数，它在神经网络初始化时被自动创建，并在训练过程中通过反向传播算法不断更新。)\n",
    "            #1,特征提取: \n",
    "            #在神经网络的最后几层，全连接层通常用于整合前面卷积层、池化层提取的特征，以便更好地进行分类或回归等任务。\n",
    "            #2,映射到目标空间: 全连接层将特征映射到任务的目标维度（如分类的类别数）。\n",
    "            #例如，最后一个全连接层的输出维度通常等于分类任务中的类别数。\n",
    "            torch.nn.Linear(in_features=7 * 7 * 64, out_features=128),\n",
    "            torch.nn.ReLU(),\n",
    "            torch.nn.Linear(in_features=128, out_features=10),\n",
    "            # Softmax 函数将输入张量的每个元素映射到 [0, 1] 的范围内，使得这些元素之和为 1。\n",
    "            # 换句话说，它将输入转换为一个概率分布。\n",
    "            torch.nn.Softmax(dim=1)\n",
    "        )\n",
    "\n",
    "    def forward(self, input):\n",
    "        output = self.model(input)\n",
    "        return output"
   ],
   "metadata": {
    "collapsed": false
   },
   "id": "5c653bc2fdc533d1"
  },
  {
   "cell_type": "markdown",
   "source": [],
   "metadata": {
    "collapsed": false
   },
   "id": "17aa1f3dc0476b05"
  },
  {
   "cell_type": "code",
   "outputs": [],
   "source": [
    "net = Net()\n",
    "#将模型转换到device中，并将其结构显示出来\n",
    "print(net.to(device))"
   ],
   "metadata": {
    "collapsed": false
   },
   "id": "c4325f5a8816bc7a",
   "execution_count": null
  },
  {
   "cell_type": "code",
   "outputs": [],
   "source": [
    "# 交叉熵损失度量了模型预测分布与真实分布之间的距离，损失越小，说明模型的预测越接近真实标签。\n",
    "lossF = torch.nn.CrossEntropyLoss()\n",
    "# 优化器用来更新神经网络 net 的参数（权重和偏置），以最小化损失函数 lossF。\n",
    "optimizer = torch.optim.Adam(net.parameters())"
   ],
   "metadata": {
    "collapsed": false
   },
   "id": "d1685967efac3fe4",
   "execution_count": null
  },
  {
   "cell_type": "code",
   "outputs": [],
   "source": [
    "EPOCHS = 10\n",
    "#存储训练过程\n",
    "history = {'Test Loss': [], 'Test Accuracy': []}\n",
    "for epoch in range(1, EPOCHS + 1):\n",
    "    processBar = tqdm(trainDataLoader, unit='step')\n",
    "    # 将模型设为训练模式，以确保某些特定层（如 Dropout、BatchNorm 等）在训练时表现正确。\n",
    "    net.train(True)\n",
    "    for step, (trainImgs, labels) in enumerate(processBar):\n",
    "        trainImgs = trainImgs.to(device)\n",
    "        labels = labels.to(device)\n",
    "\n",
    "        # 清除上一步的梯度。\n",
    "        net.zero_grad()\n",
    "        # 通过前向传播计算输出\n",
    "        outputs = net(trainImgs)\n",
    "        loss = lossF(outputs, labels)\n",
    "        # 每个样本在当前 batch 中模型预测的类别。\n",
    "        predictions = torch.argmax(outputs, dim=1)\n",
    "        # 模型在该 mini-batch 上预测正确的样本所占的比例。\n",
    "        # labels.shape[0]是当前 mini-batch 的样本数量\n",
    "        accuracy = torch.sum(predictions == labels) / labels.shape[0]\n",
    "        # 进行反向传播，计算梯度。\n",
    "        loss.backward()\n",
    "        # 更新模型参数\n",
    "        optimizer.step()\n",
    "        processBar.set_description(\"[%d/%d] Loss: %.4f, Acc: %.4f\" %\n",
    "                                   (epoch, EPOCHS, loss.item(), accuracy.item()))\n",
    "\n",
    "        # 记录模型在测试集上的表现(后续可以根据评估结果来调整训练过程)\n",
    "        if step == len(processBar) - 1:\n",
    "            correct, totalLoss = 0, 0\n",
    "            # 将模型设置为评估模式，确保某些特定层（如 Dropout、BatchNorm 等）在测试时表现正确。\n",
    "            net.train(False)\n",
    "            for testImgs, labels in testDataLoader:\n",
    "                testImgs = testImgs.to(device)\n",
    "                labels = labels.to(device)\n",
    "                outputs = net(testImgs)\n",
    "                loss = lossF(outputs, labels)\n",
    "                predictions = torch.argmax(outputs, dim=1)\n",
    "\n",
    "                totalLoss += loss\n",
    "                correct += torch.sum(predictions == labels)\n",
    "            testAccuracy = correct / (BATCH_SIZE * len(testDataLoader))\n",
    "            testLoss = totalLoss / len(testDataLoader)\n",
    "            history['Test Loss'].append(testLoss.item())\n",
    "            history['Test Accuracy'].append(testAccuracy.item())\n",
    "            processBar.set_description(\"[%d/%d] Loss: %.4f, Acc: %.4f, Test Loss: %.4f, Test Acc: %.4f\" %\n",
    "                                       (epoch, EPOCHS, loss.item(), accuracy.item(), testLoss.item(),\n",
    "                                        testAccuracy.item()))\n",
    "    processBar.close()\n"
   ],
   "metadata": {
    "collapsed": false
   },
   "id": "41cc0a36528bd8e1",
   "execution_count": null
  },
  {
   "cell_type": "code",
   "outputs": [],
   "source": [
    "#对测试Loss进行可视化\n",
    "import matplotlib.pyplot as plt\n",
    "\n",
    "plt.plot(history['Test Loss'], label='Test Loss')\n",
    "plt.legend(loc='best')\n",
    "plt.grid(True)\n",
    "plt.xlabel('Epoch')\n",
    "plt.ylabel('Loss')\n",
    "plt.show()\n",
    "\n",
    "#对测试准确率进行可视化\n",
    "plt.plot(history['Test Accuracy'], color='red', label='Test Accuracy')\n",
    "plt.legend(loc='best')\n",
    "plt.grid(True)\n",
    "plt.xlabel('Epoch')\n",
    "plt.ylabel('Accuracy')\n",
    "plt.show()\n"
   ],
   "metadata": {
    "collapsed": false
   },
   "id": "f8a290582fb3496c",
   "execution_count": null
  },
  {
   "cell_type": "code",
   "outputs": [],
   "source": [],
   "metadata": {
    "collapsed": false
   },
   "id": "dee7608fdc261e4b"
  }
 ],
 "metadata": {
  "kernelspec": {
   "display_name": "Python 3",
   "language": "python",
   "name": "python3"
  },
  "language_info": {
   "codemirror_mode": {
    "name": "ipython",
    "version": 2
   },
   "file_extension": ".py",
   "mimetype": "text/x-python",
   "name": "python",
   "nbconvert_exporter": "python",
   "pygments_lexer": "ipython2",
   "version": "2.7.6"
  }
 },
 "nbformat": 4,
 "nbformat_minor": 5
}
